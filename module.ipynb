{
 "cells": [
  {
   "cell_type": "code",
   "execution_count": 7,
   "id": "c8b59116",
   "metadata": {},
   "outputs": [],
   "source": [
    "from pip._vendor.colorama import init, Fore\n",
    "\n",
    "def display(message , is_warning=False):\n",
    "    if is_warning:\n",
    "        print(Fore.Blue+message)\n",
    "    else:\n",
    "        print(Fore.Red+message)"
   ]
  },
  {
   "cell_type": "code",
   "execution_count": null,
   "id": "bcc32dc7",
   "metadata": {},
   "outputs": [],
   "source": []
  },
  {
   "cell_type": "code",
   "execution_count": null,
   "id": "239d7ee3",
   "metadata": {},
   "outputs": [],
   "source": []
  }
 ],
 "metadata": {
  "kernelspec": {
   "display_name": "Python 3 (ipykernel)",
   "language": "python",
   "name": "python3"
  },
  "language_info": {
   "codemirror_mode": {
    "name": "ipython",
    "version": 3
   },
   "file_extension": ".py",
   "mimetype": "text/x-python",
   "name": "python",
   "nbconvert_exporter": "python",
   "pygments_lexer": "ipython3",
   "version": "3.9.7"
  }
 },
 "nbformat": 4,
 "nbformat_minor": 5
}
