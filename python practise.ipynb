{
 "cells": [
  {
   "cell_type": "code",
   "execution_count": 1,
   "id": "bfdc47e9",
   "metadata": {},
   "outputs": [
    {
     "name": "stdout",
     "output_type": "stream",
     "text": [
      "Please enter your number:2\n",
      "please enter a number:2\n",
      "your name is :  4\n"
     ]
    }
   ],
   "source": [
    "#program for summation two numbers\n",
    "variable=int (input('Please enter your number:'))\n",
    "variable1=int (input('please enter a number:'))\n",
    "ar=variable+variable1\n",
    "print('your name is : ',ar)"
   ]
  },
  {
   "cell_type": "code",
   "execution_count": 2,
   "id": "4fc985ea",
   "metadata": {},
   "outputs": [
    {
     "name": "stdout",
     "output_type": "stream",
     "text": [
      "55\n"
     ]
    }
   ],
   "source": [
    "#program for for loop statement\n",
    "i=10\n",
    "sum=0 \n",
    "for a in range(10): \n",
    "    sum=sum+i \n",
    "    i=i-1 \n",
    "print(sum)"
   ]
  },
  {
   "cell_type": "code",
   "execution_count": 3,
   "id": "47a8ba91",
   "metadata": {},
   "outputs": [
    {
     "name": "stdout",
     "output_type": "stream",
     "text": [
      "Enter your first name:premlal\n",
      "Enter your last name:singha\n",
      "Hellow Premlal Singha\n"
     ]
    }
   ],
   "source": [
    "#program for string operations combination\n",
    "first_name=input('Enter your first name:')\n",
    "last_name=input('Enter your last name:')\n",
    "full_name=first_name.capitalize()+' '+last_name.capitalize()\n",
    "print('hellow'.capitalize(),full_name)"
   ]
  },
  {
   "cell_type": "code",
   "execution_count": 4,
   "id": "645c3a82",
   "metadata": {},
   "outputs": [
    {
     "name": "stdout",
     "output_type": "stream",
     "text": [
      "PREMLAL SINGHA\n",
      "premlal singha\n",
      "Premlal singha\n",
      "2\n"
     ]
    }
   ],
   "source": [
    "#program for case chance in python\n",
    "print(full_name.upper())\n",
    "print(full_name.lower())\n",
    "print(full_name.capitalize())\n",
    "print(full_name.count('l'))"
   ]
  },
  {
   "cell_type": "code",
   "execution_count": 5,
   "id": "87352a3c",
   "metadata": {},
   "outputs": [
    {
     "name": "stdout",
     "output_type": "stream",
     "text": [
      "premlal Singha\n",
      "Hellow premlal Singha\n"
     ]
    }
   ],
   "source": [
    "first_name='premlal'\n",
    "last_name='Singha'\n",
    "output='Hellow {0} {1}'.format(first_name,last_name)\n",
    "output1=f'{first_name} {last_name}'\n",
    "print(output1)\n",
    "print(output)"
   ]
  },
  {
   "cell_type": "code",
   "execution_count": 6,
   "id": "886603bf",
   "metadata": {},
   "outputs": [
    {
     "name": "stdout",
     "output_type": "stream",
     "text": [
      "28 total days in February\n"
     ]
    }
   ],
   "source": [
    "#program for numbers\n",
    "days_in_feb=28\n",
    "print(str(days_in_feb)+' total days in February')"
   ]
  },
  {
   "cell_type": "code",
   "execution_count": 7,
   "id": "b9b6b539",
   "metadata": {},
   "outputs": [
    {
     "name": "stdout",
     "output_type": "stream",
     "text": [
      "2024-08-21 17:29:37.237076\n",
      "2024-08-20 17:29:37.237076\n"
     ]
    }
   ],
   "source": [
    "#program for time related\n",
    "from datetime import datetime, timedelta\n",
    "cu=datetime.now()\n",
    "print(cu)\n",
    "twoday=timedelta(days=1)\n",
    "oldday=cu-twoday\n",
    "print(oldday)"
   ]
  },
  {
   "cell_type": "code",
   "execution_count": 8,
   "id": "8dd4bd76",
   "metadata": {},
   "outputs": [
    {
     "name": "stdout",
     "output_type": "stream",
     "text": [
      "Date:21\n",
      "Date:37\n",
      "time is: 2024-08-21 17:29:37.237076\n"
     ]
    }
   ],
   "source": [
    "print('Date:'+str(cu.day))\n",
    "print('Date:'+str(cu.second))\n",
    "print('time is: '+str(cu))"
   ]
  },
  {
   "cell_type": "code",
   "execution_count": 9,
   "id": "aace6c4e",
   "metadata": {},
   "outputs": [
    {
     "name": "stdout",
     "output_type": "stream",
     "text": [
      "2024-08-16 17:29:37.237076\n"
     ]
    }
   ],
   "source": [
    "oneday=timedelta(days=5)\n",
    "newday=cu-oneday\n",
    "print(newday)"
   ]
  },
  {
   "cell_type": "code",
   "execution_count": 13,
   "id": "7bb51618",
   "metadata": {},
   "outputs": [
    {
     "name": "stdout",
     "output_type": "stream",
     "text": [
      "enter your birthday (dd//): 14-09-2024\n"
     ]
    },
    {
     "ename": "ValueError",
     "evalue": "time data '14-09-2024' does not match format '%d-%m-/%Y'",
     "output_type": "error",
     "traceback": [
      "\u001b[1;31m---------------------------------------------------------------------------\u001b[0m",
      "\u001b[1;31mValueError\u001b[0m                                Traceback (most recent call last)",
      "\u001b[1;32m~\\AppData\\Local\\Temp/ipykernel_6744/1128941820.py\u001b[0m in \u001b[0;36m<module>\u001b[1;34m\u001b[0m\n\u001b[0;32m      1\u001b[0m \u001b[0mbirthday\u001b[0m\u001b[1;33m=\u001b[0m\u001b[0minput\u001b[0m\u001b[1;33m(\u001b[0m\u001b[1;34m'enter your birthday (dd//): '\u001b[0m\u001b[1;33m)\u001b[0m\u001b[1;33m\u001b[0m\u001b[1;33m\u001b[0m\u001b[0m\n\u001b[1;32m----> 2\u001b[1;33m \u001b[0mbirthdate\u001b[0m\u001b[1;33m=\u001b[0m\u001b[0mdatetime\u001b[0m\u001b[1;33m.\u001b[0m\u001b[0mstrptime\u001b[0m\u001b[1;33m(\u001b[0m\u001b[0mbirthday\u001b[0m\u001b[1;33m,\u001b[0m\u001b[1;34m'%d-%m-/%Y'\u001b[0m\u001b[1;33m)\u001b[0m\u001b[1;33m\u001b[0m\u001b[1;33m\u001b[0m\u001b[0m\n\u001b[0m",
      "\u001b[1;32m~\\anaconda3\\lib\\_strptime.py\u001b[0m in \u001b[0;36m_strptime_datetime\u001b[1;34m(cls, data_string, format)\u001b[0m\n\u001b[0;32m    566\u001b[0m     \"\"\"Return a class cls instance based on the input string and the\n\u001b[0;32m    567\u001b[0m     format string.\"\"\"\n\u001b[1;32m--> 568\u001b[1;33m     \u001b[0mtt\u001b[0m\u001b[1;33m,\u001b[0m \u001b[0mfraction\u001b[0m\u001b[1;33m,\u001b[0m \u001b[0mgmtoff_fraction\u001b[0m \u001b[1;33m=\u001b[0m \u001b[0m_strptime\u001b[0m\u001b[1;33m(\u001b[0m\u001b[0mdata_string\u001b[0m\u001b[1;33m,\u001b[0m \u001b[0mformat\u001b[0m\u001b[1;33m)\u001b[0m\u001b[1;33m\u001b[0m\u001b[1;33m\u001b[0m\u001b[0m\n\u001b[0m\u001b[0;32m    569\u001b[0m     \u001b[0mtzname\u001b[0m\u001b[1;33m,\u001b[0m \u001b[0mgmtoff\u001b[0m \u001b[1;33m=\u001b[0m \u001b[0mtt\u001b[0m\u001b[1;33m[\u001b[0m\u001b[1;33m-\u001b[0m\u001b[1;36m2\u001b[0m\u001b[1;33m:\u001b[0m\u001b[1;33m]\u001b[0m\u001b[1;33m\u001b[0m\u001b[1;33m\u001b[0m\u001b[0m\n\u001b[0;32m    570\u001b[0m     \u001b[0margs\u001b[0m \u001b[1;33m=\u001b[0m \u001b[0mtt\u001b[0m\u001b[1;33m[\u001b[0m\u001b[1;33m:\u001b[0m\u001b[1;36m6\u001b[0m\u001b[1;33m]\u001b[0m \u001b[1;33m+\u001b[0m \u001b[1;33m(\u001b[0m\u001b[0mfraction\u001b[0m\u001b[1;33m,\u001b[0m\u001b[1;33m)\u001b[0m\u001b[1;33m\u001b[0m\u001b[1;33m\u001b[0m\u001b[0m\n",
      "\u001b[1;32m~\\anaconda3\\lib\\_strptime.py\u001b[0m in \u001b[0;36m_strptime\u001b[1;34m(data_string, format)\u001b[0m\n\u001b[0;32m    347\u001b[0m     \u001b[0mfound\u001b[0m \u001b[1;33m=\u001b[0m \u001b[0mformat_regex\u001b[0m\u001b[1;33m.\u001b[0m\u001b[0mmatch\u001b[0m\u001b[1;33m(\u001b[0m\u001b[0mdata_string\u001b[0m\u001b[1;33m)\u001b[0m\u001b[1;33m\u001b[0m\u001b[1;33m\u001b[0m\u001b[0m\n\u001b[0;32m    348\u001b[0m     \u001b[1;32mif\u001b[0m \u001b[1;32mnot\u001b[0m \u001b[0mfound\u001b[0m\u001b[1;33m:\u001b[0m\u001b[1;33m\u001b[0m\u001b[1;33m\u001b[0m\u001b[0m\n\u001b[1;32m--> 349\u001b[1;33m         raise ValueError(\"time data %r does not match format %r\" %\n\u001b[0m\u001b[0;32m    350\u001b[0m                          (data_string, format))\n\u001b[0;32m    351\u001b[0m     \u001b[1;32mif\u001b[0m \u001b[0mlen\u001b[0m\u001b[1;33m(\u001b[0m\u001b[0mdata_string\u001b[0m\u001b[1;33m)\u001b[0m \u001b[1;33m!=\u001b[0m \u001b[0mfound\u001b[0m\u001b[1;33m.\u001b[0m\u001b[0mend\u001b[0m\u001b[1;33m(\u001b[0m\u001b[1;33m)\u001b[0m\u001b[1;33m:\u001b[0m\u001b[1;33m\u001b[0m\u001b[1;33m\u001b[0m\u001b[0m\n",
      "\u001b[1;31mValueError\u001b[0m: time data '14-09-2024' does not match format '%d-%m-/%Y'"
     ]
    }
   ],
   "source": [
    "birthday=input('enter your birthday (dd//): ')\n",
    "birthdate=datetime.strptime(birthday,'%d-%m-/%Y')"
   ]
  },
  {
   "cell_type": "code",
   "execution_count": 14,
   "id": "78ce7a26",
   "metadata": {},
   "outputs": [
    {
     "name": "stdout",
     "output_type": "stream",
     "text": [
      "\n",
      "Not allow to divide by zero\n",
      "This is our cleanup\n"
     ]
    }
   ],
   "source": [
    "#program for Error handling\n",
    "x=42\n",
    "y=0\n",
    "print()\n",
    "try:\n",
    "    print(x/y)\n",
    "except ZeroDivisionError as e:\n",
    "    print('Not allow to divide by zero')\n",
    "else:\n",
    "    print('Something else went wrong')\n",
    "finally:\n",
    "    print('This is our cleanup')\n",
    "    "
   ]
  },
  {
   "cell_type": "code",
   "execution_count": 15,
   "id": "1f46f851",
   "metadata": {},
   "outputs": [
    {
     "name": "stdout",
     "output_type": "stream",
     "text": [
      "Enter the price of goods34\n",
      "please pay tex: 5\n"
     ]
    }
   ],
   "source": [
    "#program for conditional logic\n",
    "x=int(input('Enter the price of goods'))\n",
    "if x>=5:\n",
    "    tex=5\n",
    "    print('please pay tex:',tex)\n",
    "else:\n",
    "    tex=0\n",
    "    print('please pay tex:',tex)\n",
    "    "
   ]
  },
  {
   "cell_type": "code",
   "execution_count": 16,
   "id": "51781aea",
   "metadata": {},
   "outputs": [
    {
     "name": "stdout",
     "output_type": "stream",
     "text": [
      "sa this are match\n"
     ]
    }
   ],
   "source": [
    "x='Canada'\n",
    "if x.lower() == 'caNada'.lower():\n",
    "    print('sa this are match')\n",
    "else :\n",
    "    print('this is not match')"
   ]
  },
  {
   "cell_type": "code",
   "execution_count": 1,
   "id": "e78d0137",
   "metadata": {},
   "outputs": [
    {
     "name": "stdout",
     "output_type": "stream",
     "text": [
      "Leap Year\n"
     ]
    }
   ],
   "source": [
    "x=1988\n",
    "if x%400==0:\n",
    "    print(\"Leap year\")\n",
    "elif x%4==0 and x%100!=0:\n",
    "    print('Leap Year')\n",
    "else:\n",
    "    print('Not a leap year')"
   ]
  },
  {
   "cell_type": "code",
   "execution_count": 18,
   "id": "66cbc135",
   "metadata": {},
   "outputs": [
    {
     "name": "stdout",
     "output_type": "stream",
     "text": [
      "Good\n"
     ]
    }
   ],
   "source": [
    "x='aa'\n",
    "if x in ('pp','aa','bb'):\n",
    "    print('Good')\n",
    "else:\n",
    "    print('abbf')"
   ]
  },
  {
   "cell_type": "code",
   "execution_count": 11,
   "id": "46f5871d",
   "metadata": {},
   "outputs": [
    {
     "name": "stdout",
     "output_type": "stream",
     "text": [
      "['prem', 'lal', 'singha', 'rrrr', 'inninin', 99]\n",
      "100\n"
     ]
    }
   ],
   "source": [
    "#program for collections\n",
    "name=['prem','lal','singha']\n",
    "name.append('rrrr')\n",
    "name.append('inninin')\n",
    "name.append(99)\n",
    "print(name)\n",
    "number=[]\n",
    "number.append(1)\n",
    "number.append(45)\n",
    "number.append(100)\n",
    "print(number[])"
   ]
  },
  {
   "cell_type": "code",
   "execution_count": 23,
   "id": "510198aa",
   "metadata": {},
   "outputs": [
    {
     "name": "stdout",
     "output_type": "stream",
     "text": [
      "[{'first': 'one', 'last': 10}, {'first': 'three', 'last': 5}, {'first': 'five', 'last': 6}]\n"
     ]
    }
   ],
   "source": [
    "dictionary={}\n",
    "dictionary['first']='one'\n",
    "dictionary['last']=10\n",
    "orginal=[]\n",
    "orginal.append(dictionary)\n",
    "orginal.append(\n",
    "{\n",
    "    'first':'three','last':5\n",
    "})\n",
    "orginal.append({\n",
    "    'first':'five','last':6\n",
    "})\n",
    "print(orginal)\n"
   ]
  },
  {
   "cell_type": "code",
   "execution_count": 36,
   "id": "83c70e61",
   "metadata": {},
   "outputs": [
    {
     "name": "stdout",
     "output_type": "stream",
     "text": [
      "prem\n",
      "lal\n",
      "singha\n",
      "prem\n",
      "lal\n",
      "singha\n"
     ]
    }
   ],
   "source": [
    "#program for loop concept\n",
    "\n",
    "name=['prem','lal','singha']\n",
    "for n in name:\n",
    "    print(n)\n",
    "    \n",
    "    \n",
    "index=0\n",
    "while index < len(name):\n",
    "    print(name[index])\n",
    "    index=index+1"
   ]
  },
  {
   "cell_type": "code",
   "execution_count": 39,
   "id": "984c9ec4",
   "metadata": {},
   "outputs": [
    {
     "name": "stdout",
     "output_type": "stream",
     "text": [
      "Enter your first name:premlal\n",
      "Enter your last name:singha\n",
      "The first latters are:PS\n"
     ]
    }
   ],
   "source": [
    "#program for function\n",
    "first_name=input('Enter your first name:')\n",
    "last_name=input('Enter your last name:')\n",
    "print('The first latters are:'+first_name[0:1].upper()+last_name[0:1].upper())"
   ]
  },
  {
   "cell_type": "code",
   "execution_count": 1,
   "id": "4e57f828",
   "metadata": {},
   "outputs": [
    {
     "name": "stdout",
     "output_type": "stream",
     "text": [
      "Enter the first name:premlal\n",
      "Enter the last name:singha\n",
      "the letters are:PS\n"
     ]
    }
   ],
   "source": [
    "def find(st):\n",
    "    latter=st[0:1]\n",
    "    return latter\n",
    "first_name=input('Enter the first name:')\n",
    "last_name=input('Enter the last name:')\n",
    "print(\"the letters are:\"+find(first_name).upper()+find(last_name).upper())"
   ]
  },
  {
   "cell_type": "code",
   "execution_count": 14,
   "id": "f97c5596",
   "metadata": {},
   "outputs": [
    {
     "name": "stdout",
     "output_type": "stream",
     "text": [
      "Enter the first name:premlal\n",
      "the letters are:P\n"
     ]
    }
   ],
   "source": [
    "#program for parameterized functioin and name notation\n",
    "def find(st,force_uppercase):\n",
    "    if force_uppercase:\n",
    "        initial=st[0:1].upper()\n",
    "    else:\n",
    "        initial=st[0:1]\n",
    "    return initial\n",
    "first_name=input('Enter the first name:')\n",
    "print(\"the letters are:\"+find(force_uppercase=True, st=first_name))"
   ]
  },
  {
   "cell_type": "code",
   "execution_count": 1,
   "id": "9c785872",
   "metadata": {},
   "outputs": [
    {
     "name": "stdout",
     "output_type": "stream",
     "text": [
      "Requirement already satisfied: colorama in c:\\users\\premlal\\anaconda3\\lib\\site-packages (0.4.4)\n",
      "Note: you may need to restart the kernel to use updated packages.\n"
     ]
    },
    {
     "name": "stderr",
     "output_type": "stream",
     "text": [
      "DEPRECATION: pyodbc 4.0.0-unsupported has a non-standard version number. pip 24.0 will enforce this behaviour change. A possible replacement is to upgrade to a newer version of pyodbc or contact the author to suggest that they release a version with a conforming version number. Discussion can be found at https://github.com/pypa/pip/issues/12063\n",
      "\n",
      "[notice] A new release of pip is available: 23.3.1 -> 24.2\n",
      "[notice] To update, run: python.exe -m pip install --upgrade pip\n"
     ]
    }
   ],
   "source": [
    "pip install colorama"
   ]
  },
  {
   "cell_type": "code",
   "execution_count": 5,
   "id": "51e9ccbc",
   "metadata": {},
   "outputs": [
    {
     "name": "stdout",
     "output_type": "stream",
     "text": [
      "\u001b[31mPremlal\n"
     ]
    }
   ],
   "source": [
    "import colorama\n",
    "from colorama import Back, Fore, Style\n",
    "\n",
    "print(Fore.RED+'Premlal')"
   ]
  },
  {
   "cell_type": "code",
   "execution_count": 12,
   "id": "1d2f1173",
   "metadata": {},
   "outputs": [
    {
     "name": "stdout",
     "output_type": "stream",
     "text": [
      "{'program_manager': {'first': 'premlal', 'last': 'Singha'}}\n"
     ]
    }
   ],
   "source": [
    "person_dict={'first':'premlal','last':'Singha'}\n",
    "staff_dict={}\n",
    "staff_dict['program_manager']=person_dict\n",
    "print(staff_dict)"
   ]
  },
  {
   "cell_type": "code",
   "execution_count": 13,
   "id": "b281054b",
   "metadata": {},
   "outputs": [
    {
     "name": "stdout",
     "output_type": "stream",
     "text": [
      "{\"program_manager\": {\"first\": \"premlal\", \"last\": \"Singha\"}}\n"
     ]
    }
   ],
   "source": [
    "staff_json=json.dumps(staff_dict)\n",
    "print(staff_json)"
   ]
  },
  {
   "cell_type": "code",
   "execution_count": 2,
   "id": "cdb95365",
   "metadata": {},
   "outputs": [
    {
     "name": "stdout",
     "output_type": "stream",
     "text": [
      "{\"Program Manager\": {\"first\": \"Christopher\", \"last\": \"Harrison\", \"City\": \"Seattle\"}}\n"
     ]
    }
   ],
   "source": [
    "import json\n",
    "\n",
    "# Create a dictionary object\n",
    "person_dict = {'first': 'Christopher', 'last':'Harrison'}\n",
    "# Add additional key pairs to dictionary as needed\n",
    "person_dict['City']='Seattle'\n",
    "\n",
    "# create a staff dictionary\n",
    "# assign a person to a staff position of program manager\n",
    "staff_dict ={}\n",
    "staff_dict['Program Manager']=person_dict\n",
    "# Convert dictionary to JSON object\n",
    "staff_json = json.dumps(staff_dict)\n",
    "\n",
    "# Print JSON object\n",
    "print(staff_json)"
   ]
  },
  {
   "cell_type": "code",
   "execution_count": null,
   "id": "6008ef0d",
   "metadata": {},
   "outputs": [],
   "source": []
  }
 ],
 "metadata": {
  "kernelspec": {
   "display_name": "Python 3 (ipykernel)",
   "language": "python",
   "name": "python3"
  },
  "language_info": {
   "codemirror_mode": {
    "name": "ipython",
    "version": 3
   },
   "file_extension": ".py",
   "mimetype": "text/x-python",
   "name": "python",
   "nbconvert_exporter": "python",
   "pygments_lexer": "ipython3",
   "version": "3.9.7"
  }
 },
 "nbformat": 4,
 "nbformat_minor": 5
}
