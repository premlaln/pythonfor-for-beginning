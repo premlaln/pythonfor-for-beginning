{
 "cells": [
  {
   "cell_type": "code",
   "execution_count": 25,
   "id": "529778ec",
   "metadata": {},
   "outputs": [],
   "source": [
    "#import pyplot from matplotlib\n",
    "plt.style.use('fivethirtyeight')\n",
    "import matplotlib.dates as mdates"
   ]
  },
  {
   "cell_type": "code",
   "execution_count": 26,
   "id": "7b44af78",
   "metadata": {},
   "outputs": [],
   "source": [
    "#Retrive Datasets\n",
    "import pandas as pd\n",
    "data=pd.read_csv('gantt_example.csv')\n",
    "data=pd.DataFrame(data)"
   ]
  },
  {
   "cell_type": "code",
   "execution_count": 20,
   "id": "db746e04",
   "metadata": {},
   "outputs": [
    {
     "data": {
      "text/html": [
       "<div>\n",
       "<style scoped>\n",
       "    .dataframe tbody tr th:only-of-type {\n",
       "        vertical-align: middle;\n",
       "    }\n",
       "\n",
       "    .dataframe tbody tr th {\n",
       "        vertical-align: top;\n",
       "    }\n",
       "\n",
       "    .dataframe thead th {\n",
       "        text-align: right;\n",
       "    }\n",
       "</style>\n",
       "<table border=\"1\" class=\"dataframe\">\n",
       "  <thead>\n",
       "    <tr style=\"text-align: right;\">\n",
       "      <th></th>\n",
       "      <th>Task</th>\n",
       "      <th>Start</th>\n",
       "      <th>Finish</th>\n",
       "      <th>Complete</th>\n",
       "    </tr>\n",
       "  </thead>\n",
       "  <tbody>\n",
       "    <tr>\n",
       "      <th>0</th>\n",
       "      <td>Job A</td>\n",
       "      <td>2009-01-01</td>\n",
       "      <td>2009-02-26</td>\n",
       "      <td>23</td>\n",
       "    </tr>\n",
       "    <tr>\n",
       "      <th>1</th>\n",
       "      <td>Job B</td>\n",
       "      <td>2009-03-05</td>\n",
       "      <td>2009-04-15</td>\n",
       "      <td>55</td>\n",
       "    </tr>\n",
       "    <tr>\n",
       "      <th>2</th>\n",
       "      <td>Job C</td>\n",
       "      <td>2009-02-20 12:40:00</td>\n",
       "      <td>2009-05-30 15:12:44</td>\n",
       "      <td>97</td>\n",
       "    </tr>\n",
       "    <tr>\n",
       "      <th>3</th>\n",
       "      <td>Job D</td>\n",
       "      <td>2009-03-10</td>\n",
       "      <td>2009-04-30</td>\n",
       "      <td>11</td>\n",
       "    </tr>\n",
       "    <tr>\n",
       "      <th>4</th>\n",
       "      <td>Job E</td>\n",
       "      <td>2009-02-25</td>\n",
       "      <td>2009-06-30</td>\n",
       "      <td>14</td>\n",
       "    </tr>\n",
       "  </tbody>\n",
       "</table>\n",
       "</div>"
      ],
      "text/plain": [
       "    Task                Start               Finish  Complete\n",
       "0  Job A           2009-01-01           2009-02-26        23\n",
       "1  Job B           2009-03-05           2009-04-15        55\n",
       "2  Job C  2009-02-20 12:40:00  2009-05-30 15:12:44        97\n",
       "3  Job D           2009-03-10           2009-04-30        11\n",
       "4  Job E           2009-02-25           2009-06-30        14"
      ]
     },
     "execution_count": 20,
     "metadata": {},
     "output_type": "execute_result"
    }
   ],
   "source": [
    "data.drop('Resource',inplace=True,axis=1)\n",
    "data"
   ]
  },
  {
   "cell_type": "code",
   "execution_count": 21,
   "id": "4fb70734",
   "metadata": {},
   "outputs": [],
   "source": [
    "data['Start']=pd.to_datetime(data['Start'])\n",
    "data['Finish']=pd.to_datetime(data['Finish'])"
   ]
  },
  {
   "cell_type": "code",
   "execution_count": 22,
   "id": "e4fcb9f5",
   "metadata": {},
   "outputs": [],
   "source": [
    "data['Duration']=data['Finish']-data['Start']"
   ]
  },
  {
   "cell_type": "code",
   "execution_count": 23,
   "id": "c7179fa4",
   "metadata": {},
   "outputs": [
    {
     "data": {
      "image/png": "[encoded data removed]",
      "text/plain": [
       "<Figure size 720x360 with 1 Axes>"
      ]
     },
     "metadata": {},
     "output_type": "display_data"
    }
   ],
   "source": [
    "fig,gnt=plt.subplots(figsize=(10,5))\n",
    "for i, job in enumerate(data['Task']):\n",
    "    gnt.barh(job, data['Duration'].iloc[i].days,left=data['Start'].iloc[i],color='skyblue',edgecolor='black')\n",
    "\n",
    "gnt.xaxis_date()\n",
    "gnt.xaxis.set_major_formatter(mdates.DateFormatter(\"%Y-%m-%d\"))\n",
    "plt.xticks(rotation=45)\n",
    "plt.xlabel('Date')\n",
    "plt.ylabel('Jobs')\n",
    "plt.title('Gantt Chart')\n",
    "\n",
    "plt.show()   "
   ]
  }
 ],
 "metadata": {
  "kernelspec": {
   "display_name": "Python 3 (ipykernel)",
   "language": "python",
   "name": "python3"
  },
  "language_info": {
   "codemirror_mode": {
    "name": "ipython",
    "version": 3
   },
   "file_extension": ".py",
   "mimetype": "text/x-python",
   "name": "python",
   "nbconvert_exporter": "python",
   "pygments_lexer": "ipython3",
   "version": "3.9.7"
  }
 },
 "nbformat": 4,
 "nbformat_minor": 5
}
