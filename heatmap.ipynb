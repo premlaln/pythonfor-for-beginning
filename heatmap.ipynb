{
 "cells": [
  {
   "cell_type": "code",
   "execution_count": 204,
   "id": "fcd1209c",
   "metadata": {},
   "outputs": [],
   "source": [
    "import pandas as pd\n",
    "import numpy as np\n",
    "import seaborn as sns\n",
    "import matplotlib.pyplot as plt"
   ]
  },
  {
   "cell_type": "code",
   "execution_count": 205,
   "id": "71f6ac58",
   "metadata": {},
   "outputs": [
    {
     "name": "stdout",
     "output_type": "stream",
     "text": [
      "Enter the number of rows:3\n",
      "Enter the number of columns:3\n",
      "Enter the value of (1,1): 1\n",
      "Enter the value of (1,2): 2\n",
      "Enter the value of (1,3): 3\n",
      "Enter the value of (2,1): 4\n",
      "Enter the value of (2,2): 5\n",
      "Enter the value of (2,3): 6\n",
      "Enter the value of (3,1): 2\n",
      "Enter the value of (3,2): 8\n",
      "Enter the value of (3,3): 4\n"
     ]
    },
    {
     "data": {
      "text/plain": [
       "[[1.0, 2.0, 3.0], [4.0, 5.0, 6.0], [2.0, 8.0, 4.0]]"
      ]
     },
     "execution_count": 205,
     "metadata": {},
     "output_type": "execute_result"
    }
   ],
   "source": [
    "li=[]\n",
    "rows=int(input(\"Enter the number of rows:\"))\n",
    "columns=int(input('Enter the number of columns:'))\n",
    "for i in range(rows):\n",
    "    col=[]\n",
    "    for j in range(columns):\n",
    "        value=float(input(f'Enter the value of ({i+1},{j+1}): '))\n",
    "        col.append(value)\n",
    "    li.append(col)\n",
    "li"
   ]
  },
  {
   "cell_type": "code",
   "execution_count": 206,
   "id": "2c05e046",
   "metadata": {},
   "outputs": [],
   "source": [
    "lis=np.array(li)"
   ]
  },
  {
   "cell_type": "code",
   "execution_count": 207,
   "id": "e8028fad",
   "metadata": {},
   "outputs": [
    {
     "data": {
      "text/plain": [
       "array([[0., 0., 0.],\n",
       "       [0., 0., 0.],\n",
       "       [0., 0., 0.]])"
      ]
     },
     "execution_count": 207,
     "metadata": {},
     "output_type": "execute_result"
    }
   ],
   "source": [
    "correlation_matrix=np.zeros((columns,columns))\n",
    "correlation_matrix"
   ]
  },
  {
   "cell_type": "code",
   "execution_count": 208,
   "id": "58d8f462",
   "metadata": {},
   "outputs": [],
   "source": [
    "for i in range(columns):\n",
    "    for j in range(columns):\n",
    "        x=lis[:,i]\n",
    "        y=lis[:,j]\n",
    "        mean_x=np.mean(x)\n",
    "        mean_y=np.mean(y)\n",
    "        differ_x=x-mean_x\n",
    "        differ_y=y-mean_y\n",
    "        covariance=np.sum(differ_x*differ_y)\n",
    "        deviance_x=np.sum(differ_x*differ_x)\n",
    "        deviance_y=np.sum(differ_y*differ_y)\n",
    "        val=covariance/np.sqrt((deviance_x*deviance_y))\n",
    "        correlation_matrix[i,j]=val"
   ]
  },
  {
   "cell_type": "code",
   "execution_count": 209,
   "id": "88c3c01a",
   "metadata": {},
   "outputs": [
    {
     "data": {
      "text/plain": [
       "array([[1.        , 0.32732684, 1.        ],\n",
       "       [0.32732684, 1.        , 0.32732684],\n",
       "       [1.        , 0.32732684, 1.        ]])"
      ]
     },
     "execution_count": 209,
     "metadata": {},
     "output_type": "execute_result"
    }
   ],
   "source": [
    "correlation_matrix"
   ]
  },
  {
   "cell_type": "code",
   "execution_count": 210,
   "id": "731cce53",
   "metadata": {},
   "outputs": [
    {
     "data": {
      "text/plain": [
       "<Figure size 720x720 with 0 Axes>"
      ]
     },
     "execution_count": 210,
     "metadata": {},
     "output_type": "execute_result"
    },
    {
     "data": {
      "text/plain": [
       "<Figure size 720x720 with 0 Axes>"
      ]
     },
     "metadata": {},
     "output_type": "display_data"
    }
   ],
   "source": [
    "plt.figure(figsize=(10, 10))"
   ]
  },
  {
   "cell_type": "code",
   "execution_count": 211,
   "id": "31545479",
   "metadata": {},
   "outputs": [
    {
     "data": {
      "image/png": "[encoded data removed]",
      "text/plain": [
       "<Figure size 432x288 with 2 Axes>"
      ]
     },
     "metadata": {
      "needs_background": "light"
     },
     "output_type": "display_data"
    }
   ],
   "source": [
    "sns.heatmap(correlation_matrix, annot=True, cmap='coolwarm', linewidths=0.5)\n",
    "plt.title('Correlation Matrix Heatmap')\n",
    "plt.xlabel('Numeric feature')\n",
    "plt.ylabel('Numeric feature')\n",
    "plt.show()"
   ]
  },
  {
   "cell_type": "code",
   "execution_count": null,
   "id": "cb2310e7",
   "metadata": {},
   "outputs": [],
   "source": []
  },
  {
   "cell_type": "code",
   "execution_count": null,
   "id": "6c1edd09",
   "metadata": {},
   "outputs": [],
   "source": []
  }
 ],
 "metadata": {
  "kernelspec": {
   "display_name": "Python 3 (ipykernel)",
   "language": "python",
   "name": "python3"
  },
  "language_info": {
   "codemirror_mode": {
    "name": "ipython",
    "version": 3
   },
   "file_extension": ".py",
   "mimetype": "text/x-python",
   "name": "python",
   "nbconvert_exporter": "python",
   "pygments_lexer": "ipython3",
   "version": "3.9.7"
  }
 },
 "nbformat": 4,
 "nbformat_minor": 5
}
